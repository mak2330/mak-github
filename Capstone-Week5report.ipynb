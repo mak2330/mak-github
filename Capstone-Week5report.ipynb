{
    "cells": [
        {
            "metadata": {},
            "cell_type": "markdown",
            "source": "# Applied Data Science Capstone Project Report"
        },
        {
            "metadata": {},
            "cell_type": "markdown",
            "source": "**Introduction/Business Problem**"
        },
        {
            "metadata": {},
            "cell_type": "markdown",
            "source": "In this project, we will explore the eastern area of Singapore and cluster the neighbourhoods using k-means clustering. The Foursquare location data will be used to explore neighbourhoods in Singapore and find out which neighbourhoods in the east of Singapore have more similarity. \n\nThe target audience of the project is people who are interested in moving or exploring a neighbourhood similar to another, or people who are interested in doing business or city planning in a certain neighbourhood."
        },
        {
            "metadata": {},
            "cell_type": "markdown",
            "source": "**Data**"
        },
        {
            "metadata": {},
            "cell_type": "markdown",
            "source": "First, we need a list of neighbourhoods in Singapore before querying. I will use the list of neighbourhoods available on wiki page and filter out the Eastern neighbourhoods:\nhttps://en.wikipedia.org/wiki/Planning_Areas_of_Singapore\n\nAn example of the data will contains columns\n\n| Name  | Region | Population | Area |\n| ------------- | ------------- | ------------- | ----|\n| Bishan  | Central  | 2,530 | 62.3 |\n\nNext, with the list of regions, I will get the latitudes and longitudes of the neighbourhoods with geocoder (or other services if geocoder service is not available). \n\nWith the latitudes and longitudes of the neighbourhoods, I can then query Foursquare to explore the popularity of venues in the neighbourhood. The rank of pupular venues near each neighbourhood will be gathered and made into one hot encoding before applying k-means clustering."
        },
        {
            "metadata": {},
            "cell_type": "markdown",
            "source": "**Methodology**"
        },
        {
            "metadata": {},
            "cell_type": "markdown",
            "source": "Data of neighbourhoods in Singapore was scraped from wiki page using read_html function from pandas library.\n\nThen the data was preprocessed by removing redundant fields as well as filtering out other regions except for the east region.\n\nWhile getting the latitudes and longtitudes of the neighbourhoods, the data was collected via Google Map instead of querying the geocoder via code because the geocoder was not available and could not return any results. So the data was gathered by checking on Google Map manually since there are only 6 neighbourhoods.\n\nThen we looped through each neighbourhood and query the Foursquare to get popular venues nearby. The venues were then turned into one-hot encoding and normalized to be clustered by k-means.\n\nWith k-means clustering, the neighbourhoods were clustered into 3 clusters and finally the clustering was displayed on the folium map."
        },
        {
            "metadata": {},
            "cell_type": "markdown",
            "source": "**Results**"
        },
        {
            "metadata": {},
            "cell_type": "markdown",
            "source": "The 6 neighbourhoods were clustered into 3 clusters:"
        },
        {
            "metadata": {},
            "cell_type": "markdown",
            "source": "<img src=\"\">"
        },
        {
            "metadata": {},
            "cell_type": "markdown",
            "source": "<img src=\"map.png\">"
        },
        {
            "metadata": {},
            "cell_type": "markdown",
            "source": "**Discussion**"
        },
        {
            "metadata": {},
            "cell_type": "markdown",
            "source": "The result with the clustering quite makes sense to local people staying in Singapore because among the 6 neighbourhoods, the 4 neighbourhoods in the same cluster are more similar to each other because they are residential areas. The other 2 neighbourhoods, Changi Bay and Paya Lebar are clustered in 2 groups on its own because these two areas have some special usage. Changi Bay has ferry station and Paya Lebar has military base. So they are clustered into seperate groups by their own. \n\nThis result is useful for people who are considering which area to live in. If they liked to live in Bedok, then it is more likely they will like Pasir Ris more than Changi Bay."
        },
        {
            "metadata": {},
            "cell_type": "markdown",
            "source": "**Conclusion**"
        },
        {
            "metadata": {},
            "cell_type": "markdown",
            "source": "The 6 neighbourhoods in the east of Singapore are clustered into 3 groups based on popular venues in the neighbourhoods. The clustering reflects the similarities between neighbourhoods and the result can be useful to people in different ways."
        },
        {
            "metadata": {},
            "cell_type": "code",
            "source": "",
            "execution_count": null,
            "outputs": []
        }
    ],
    "metadata": {
        "kernelspec": {
            "name": "python3",
            "display_name": "Python 3.6",
            "language": "python"
        },
        "language_info": {
            "name": "python",
            "version": "3.6.9",
            "mimetype": "text/x-python",
            "codemirror_mode": {
                "name": "ipython",
                "version": 3
            },
            "pygments_lexer": "ipython3",
            "nbconvert_exporter": "python",
            "file_extension": ".py"
        }
    },
    "nbformat": 4,
    "nbformat_minor": 2
}